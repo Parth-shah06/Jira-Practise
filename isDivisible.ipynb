{
 "cells": [
  {
   "cell_type": "code",
   "execution_count": 1,
   "id": "e659c571",
   "metadata": {},
   "outputs": [
    {
     "name": "stdout",
     "output_type": "stream",
     "text": [
      "Enter a number: 5\n",
      "Enter a divisor: 10\n",
      "5 is not divisible by 10.\n"
     ]
    }
   ],
   "source": [
    "def is_divisible(number, divisor):\n",
    "    if number % divisor == 0:\n",
    "        return True\n",
    "    else:\n",
    "        return False\n",
    "\n",
    "# Test the function\n",
    "num = int(input(\"Enter a number: \"))\n",
    "div = int(input(\"Enter a divisor: \"))\n",
    "result = is_divisible(num, div)\n",
    "if result:\n",
    "    print(f\"{num} is divisible by {div}.\")\n",
    "else:\n",
    "    print(f\"{num} is not divisible by {div}.\")"
   ]
  },
  {
   "cell_type": "code",
   "execution_count": null,
   "id": "922fa143",
   "metadata": {},
   "outputs": [],
   "source": []
  }
 ],
 "metadata": {
  "kernelspec": {
   "display_name": "Python 3 (ipykernel)",
   "language": "python",
   "name": "python3"
  },
  "language_info": {
   "codemirror_mode": {
    "name": "ipython",
    "version": 3
   },
   "file_extension": ".py",
   "mimetype": "text/x-python",
   "name": "python",
   "nbconvert_exporter": "python",
   "pygments_lexer": "ipython3",
   "version": "3.10.9"
  }
 },
 "nbformat": 4,
 "nbformat_minor": 5
}
